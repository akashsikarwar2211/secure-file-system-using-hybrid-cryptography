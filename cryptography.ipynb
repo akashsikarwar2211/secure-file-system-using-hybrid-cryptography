{
  "nbformat": 4,
  "nbformat_minor": 0,
  "metadata": {
    "colab": {
      "provenance": [],
      "authorship_tag": "ABX9TyOxtnsHPEeF+3/4ZiocinoU",
      "include_colab_link": true
    },
    "kernelspec": {
      "name": "python3",
      "display_name": "Python 3"
    },
    "language_info": {
      "name": "python"
    }
  },
  "cells": [
    {
      "cell_type": "markdown",
      "metadata": {
        "id": "view-in-github",
        "colab_type": "text"
      },
      "source": [
        "<a href=\"https://colab.research.google.com/github/akashsikarwar2211/secure-file-system-using-hybrid-cryptography/blob/main/cryptography.ipynb\" target=\"_parent\"><img src=\"https://colab.research.google.com/assets/colab-badge.svg\" alt=\"Open In Colab\"/></a>"
      ]
    },
    {
      "cell_type": "code",
      "execution_count": null,
      "metadata": {
        "id": "Jev03_wjgn3U"
      },
      "outputs": [],
      "source": [
        "# Secure File System using Hybrid Cryptography\n",
        "\n",
        "from Crypto.PublicKey import RSA\n",
        "from Crypto.Cipher import AES, PKCS1_OAEP\n",
        "from Crypto.Random import get_random_bytes\n",
        "import os, json\n",
        "\n",
        "# Directories\n",
        "os.makedirs(\"encrypted_files\", exist_ok=True)\n",
        "os.makedirs(\"keys\", exist_ok=True)\n",
        "os.makedirs(\"meta\", exist_ok=True)\n",
        "\n",
        "# Step 1: Generate RSA Key Pair\n",
        "def generate_keys(username):\n",
        "    key = RSA.generate(2048)\n",
        "    private_key = key.export_key()\n",
        "    public_key = key.publickey().export_key()\n",
        "\n",
        "    with open(f\"keys/{username}_priv.pem\", \"wb\") as priv_file:\n",
        "        priv_file.write(private_key)\n",
        "    with open(f\"keys/{username}_pub.pem\", \"wb\") as pub_file:\n",
        "        pub_file.write(public_key)\n",
        "    print(\"Keys generated and saved.\")\n",
        "\n",
        "# Step 2 & 3: Encrypt File with AES, Encrypt AES Key with RSA\n",
        "\n",
        "def encrypt_file(filepath, username):\n",
        "    # Load public key\n",
        "    with open(f\"keys/{username}_pub.pem\", \"rb\") as pub_file:\n",
        "        public_key = RSA.import_key(pub_file.read())\n",
        "\n",
        "    # Generate AES key\n",
        "    aes_key = get_random_bytes(32)  # 256-bit AES key\n",
        "\n",
        "    # Read file content\n",
        "    with open(filepath, \"rb\") as f:\n",
        "        file_data = f.read()\n",
        "\n",
        "    # AES encryption\n",
        "    cipher_aes = AES.new(aes_key, AES.MODE_EAX)\n",
        "    ciphertext, tag = cipher_aes.encrypt_and_digest(file_data)\n",
        "\n",
        "    # RSA encryption of AES key\n",
        "    cipher_rsa = PKCS1_OAEP.new(public_key)\n",
        "    enc_aes_key = cipher_rsa.encrypt(aes_key)\n",
        "\n",
        "    # Save encrypted file\n",
        "    filename = os.path.basename(filepath)\n",
        "    with open(f\"encrypted_files/{filename}.enc\", \"wb\") as ef:\n",
        "        ef.write(ciphertext)\n",
        "\n",
        "    # Save metadata\n",
        "    metadata = {\n",
        "        \"nonce\": cipher_aes.nonce.hex(),\n",
        "        \"tag\": tag.hex(),\n",
        "        \"enc_key\": enc_aes_key.hex()\n",
        "    }\n",
        "    with open(f\"meta/{filename}.json\", \"w\") as meta_file:\n",
        "        json.dump(metadata, meta_file)\n",
        "\n",
        "    print(\"File encrypted and saved.\")\n",
        "\n",
        "# Step 4: Decrypt the File\n",
        "\n",
        "def decrypt_file(encrypted_filename, username):\n",
        "    # Load private key\n",
        "    with open(f\"keys/{username}_priv.pem\", \"rb\") as priv_file:\n",
        "        private_key = RSA.import_key(priv_file.read())\n",
        "\n",
        "    # Load metadata\n",
        "    with open(f\"meta/{encrypted_filename}.json\", \"r\") as meta_file:\n",
        "        meta = json.load(meta_file)\n",
        "\n",
        "    # Convert hex to bytes\n",
        "    nonce = bytes.fromhex(meta[\"nonce\"])\n",
        "    tag = bytes.fromhex(meta[\"tag\"])\n",
        "    enc_key = bytes.fromhex(meta[\"enc_key\"])\n",
        "\n",
        "    # Decrypt AES key\n",
        "    cipher_rsa = PKCS1_OAEP.new(private_key)\n",
        "    aes_key = cipher_rsa.decrypt(enc_key)\n",
        "\n",
        "    # Read encrypted file\n",
        "    with open(f\"encrypted_files/{encrypted_filename}.enc\", \"rb\") as ef:\n",
        "        ciphertext = ef.read()\n",
        "\n",
        "    # AES decryption\n",
        "    cipher_aes = AES.new(aes_key, AES.MODE_EAX, nonce)\n",
        "    plaintext = cipher_aes.decrypt_and_verify(ciphertext, tag)\n",
        "\n",
        "    # Save decrypted file\n",
        "    with open(f\"decrypted_{encrypted_filename}\", \"wb\") as df:\n",
        "        df.write(plaintext)\n",
        "\n",
        "    print(\"File decrypted and saved.\")\n",
        "\n",
        "# Example usage:\n",
        "# generate_keys(\"alice\")\n",
        "# encrypt_file(\"sample.txt\", \"alice\")\n",
        "# decrypt_file(\"sample.txt\", \"alice\")\n"
      ]
    },
    {
      "cell_type": "code",
      "source": [
        "pip install pycryptodome\n"
      ],
      "metadata": {
        "colab": {
          "base_uri": "https://localhost:8080/"
        },
        "id": "L5q60JEahkJd",
        "outputId": "0643a067-cf75-4923-ecd4-3deb80a4404e"
      },
      "execution_count": null,
      "outputs": [
        {
          "output_type": "stream",
          "name": "stdout",
          "text": [
            "Requirement already satisfied: pycryptodome in /usr/local/lib/python3.11/dist-packages (3.22.0)\n"
          ]
        }
      ]
    },
    {
      "cell_type": "code",
      "source": [
        "from Crypto.PublicKey import RSA\n",
        "import os\n",
        "\n",
        "os.makedirs(\"keys\", exist_ok=True)\n",
        "\n",
        "def generate_keys(username):\n",
        "    key = RSA.generate(2048)\n",
        "    private_key = key.export_key()\n",
        "    public_key = key.publickey().export_key()\n",
        "\n",
        "    with open(f\"keys/{username}_priv.pem\", \"wb\") as priv_file:\n",
        "        priv_file.write(private_key)\n",
        "    with open(f\"keys/{username}_pub.pem\", \"wb\") as pub_file:\n",
        "        pub_file.write(public_key)\n",
        "\n",
        "    print(f\"Keys generated for {username}.\")\n"
      ],
      "metadata": {
        "id": "Cy1KyGa8iTUr"
      },
      "execution_count": null,
      "outputs": []
    },
    {
      "cell_type": "code",
      "source": [
        "import shutil\n",
        "\n",
        "# Replace 'env_variables.txt' with your actual file name\n",
        "shutil.move(\"sample_file.txt\", \".env\")\n",
        "\n",
        "print(\"Converted .txt to .env successfully.\")\n"
      ],
      "metadata": {
        "colab": {
          "base_uri": "https://localhost:8080/"
        },
        "id": "Dt9kcqzIk8Kk",
        "outputId": "4d7ce8cb-4262-45fe-ff84-a52b9aff8c02"
      },
      "execution_count": null,
      "outputs": [
        {
          "output_type": "stream",
          "name": "stdout",
          "text": [
            "Converted .txt to .env successfully.\n"
          ]
        }
      ]
    },
    {
      "cell_type": "code",
      "source": [
        "from Crypto.Cipher import AES, PKCS1_OAEP\n",
        "from Crypto.Random import get_random_bytes\n",
        "import json\n",
        "\n",
        "os.makedirs(\"encrypted_files\", exist_ok=True)\n",
        "os.makedirs(\"meta\", exist_ok=True)\n",
        "\n",
        "def encrypt_file(filepath, username):\n",
        "    with open(f\"keys/{username}_pub.pem\", \"rb\") as pub_file:\n",
        "        public_key = RSA.import_key(pub_file.read())\n",
        "\n",
        "    aes_key = get_random_bytes(32)\n",
        "    with open(filepath, \"rb\") as f:\n",
        "        file_data = f.read()\n",
        "\n",
        "    cipher_aes = AES.new(aes_key, AES.MODE_EAX)\n",
        "    ciphertext, tag = cipher_aes.encrypt_and_digest(file_data)\n",
        "\n",
        "    cipher_rsa = PKCS1_OAEP.new(public_key)\n",
        "    enc_aes_key = cipher_rsa.encrypt(aes_key)\n",
        "\n",
        "    filename = os.path.basename(filepath)\n",
        "    with open(f\"encrypted_files/{filename}.enc\", \"wb\") as ef:\n",
        "        ef.write(ciphertext)\n",
        "\n",
        "    metadata = {\n",
        "        \"nonce\": cipher_aes.nonce.hex(),\n",
        "        \"tag\": tag.hex(),\n",
        "        \"enc_key\": enc_aes_key.hex()\n",
        "    }\n",
        "    with open(f\"meta/{filename}.json\", \"w\") as meta_file:\n",
        "        json.dump(metadata, meta_file)\n",
        "\n",
        "    print(f\"File '{filename}' encrypted.\")\n"
      ],
      "metadata": {
        "id": "iScaFp4giYaW"
      },
      "execution_count": null,
      "outputs": []
    },
    {
      "cell_type": "code",
      "source": [
        "from google.colab import files\n",
        "\n",
        "uploaded = files.upload()\n",
        "filename = list(uploaded.keys())[0]\n",
        "print(f\"Uploaded file: {filename}\")\n"
      ],
      "metadata": {
        "colab": {
          "base_uri": "https://localhost:8080/",
          "height": 90
        },
        "id": "zcxgMAQhig_2",
        "outputId": "0d3243ed-be77-40f3-e056-3a1e04ff4efe"
      },
      "execution_count": null,
      "outputs": [
        {
          "output_type": "display_data",
          "data": {
            "text/plain": [
              "<IPython.core.display.HTML object>"
            ],
            "text/html": [
              "\n",
              "     <input type=\"file\" id=\"files-21ca70de-83ce-456f-af24-3b5afb77530d\" name=\"files[]\" multiple disabled\n",
              "        style=\"border:none\" />\n",
              "     <output id=\"result-21ca70de-83ce-456f-af24-3b5afb77530d\">\n",
              "      Upload widget is only available when the cell has been executed in the\n",
              "      current browser session. Please rerun this cell to enable.\n",
              "      </output>\n",
              "      <script>// Copyright 2017 Google LLC\n",
              "//\n",
              "// Licensed under the Apache License, Version 2.0 (the \"License\");\n",
              "// you may not use this file except in compliance with the License.\n",
              "// You may obtain a copy of the License at\n",
              "//\n",
              "//      http://www.apache.org/licenses/LICENSE-2.0\n",
              "//\n",
              "// Unless required by applicable law or agreed to in writing, software\n",
              "// distributed under the License is distributed on an \"AS IS\" BASIS,\n",
              "// WITHOUT WARRANTIES OR CONDITIONS OF ANY KIND, either express or implied.\n",
              "// See the License for the specific language governing permissions and\n",
              "// limitations under the License.\n",
              "\n",
              "/**\n",
              " * @fileoverview Helpers for google.colab Python module.\n",
              " */\n",
              "(function(scope) {\n",
              "function span(text, styleAttributes = {}) {\n",
              "  const element = document.createElement('span');\n",
              "  element.textContent = text;\n",
              "  for (const key of Object.keys(styleAttributes)) {\n",
              "    element.style[key] = styleAttributes[key];\n",
              "  }\n",
              "  return element;\n",
              "}\n",
              "\n",
              "// Max number of bytes which will be uploaded at a time.\n",
              "const MAX_PAYLOAD_SIZE = 100 * 1024;\n",
              "\n",
              "function _uploadFiles(inputId, outputId) {\n",
              "  const steps = uploadFilesStep(inputId, outputId);\n",
              "  const outputElement = document.getElementById(outputId);\n",
              "  // Cache steps on the outputElement to make it available for the next call\n",
              "  // to uploadFilesContinue from Python.\n",
              "  outputElement.steps = steps;\n",
              "\n",
              "  return _uploadFilesContinue(outputId);\n",
              "}\n",
              "\n",
              "// This is roughly an async generator (not supported in the browser yet),\n",
              "// where there are multiple asynchronous steps and the Python side is going\n",
              "// to poll for completion of each step.\n",
              "// This uses a Promise to block the python side on completion of each step,\n",
              "// then passes the result of the previous step as the input to the next step.\n",
              "function _uploadFilesContinue(outputId) {\n",
              "  const outputElement = document.getElementById(outputId);\n",
              "  const steps = outputElement.steps;\n",
              "\n",
              "  const next = steps.next(outputElement.lastPromiseValue);\n",
              "  return Promise.resolve(next.value.promise).then((value) => {\n",
              "    // Cache the last promise value to make it available to the next\n",
              "    // step of the generator.\n",
              "    outputElement.lastPromiseValue = value;\n",
              "    return next.value.response;\n",
              "  });\n",
              "}\n",
              "\n",
              "/**\n",
              " * Generator function which is called between each async step of the upload\n",
              " * process.\n",
              " * @param {string} inputId Element ID of the input file picker element.\n",
              " * @param {string} outputId Element ID of the output display.\n",
              " * @return {!Iterable<!Object>} Iterable of next steps.\n",
              " */\n",
              "function* uploadFilesStep(inputId, outputId) {\n",
              "  const inputElement = document.getElementById(inputId);\n",
              "  inputElement.disabled = false;\n",
              "\n",
              "  const outputElement = document.getElementById(outputId);\n",
              "  outputElement.innerHTML = '';\n",
              "\n",
              "  const pickedPromise = new Promise((resolve) => {\n",
              "    inputElement.addEventListener('change', (e) => {\n",
              "      resolve(e.target.files);\n",
              "    });\n",
              "  });\n",
              "\n",
              "  const cancel = document.createElement('button');\n",
              "  inputElement.parentElement.appendChild(cancel);\n",
              "  cancel.textContent = 'Cancel upload';\n",
              "  const cancelPromise = new Promise((resolve) => {\n",
              "    cancel.onclick = () => {\n",
              "      resolve(null);\n",
              "    };\n",
              "  });\n",
              "\n",
              "  // Wait for the user to pick the files.\n",
              "  const files = yield {\n",
              "    promise: Promise.race([pickedPromise, cancelPromise]),\n",
              "    response: {\n",
              "      action: 'starting',\n",
              "    }\n",
              "  };\n",
              "\n",
              "  cancel.remove();\n",
              "\n",
              "  // Disable the input element since further picks are not allowed.\n",
              "  inputElement.disabled = true;\n",
              "\n",
              "  if (!files) {\n",
              "    return {\n",
              "      response: {\n",
              "        action: 'complete',\n",
              "      }\n",
              "    };\n",
              "  }\n",
              "\n",
              "  for (const file of files) {\n",
              "    const li = document.createElement('li');\n",
              "    li.append(span(file.name, {fontWeight: 'bold'}));\n",
              "    li.append(span(\n",
              "        `(${file.type || 'n/a'}) - ${file.size} bytes, ` +\n",
              "        `last modified: ${\n",
              "            file.lastModifiedDate ? file.lastModifiedDate.toLocaleDateString() :\n",
              "                                    'n/a'} - `));\n",
              "    const percent = span('0% done');\n",
              "    li.appendChild(percent);\n",
              "\n",
              "    outputElement.appendChild(li);\n",
              "\n",
              "    const fileDataPromise = new Promise((resolve) => {\n",
              "      const reader = new FileReader();\n",
              "      reader.onload = (e) => {\n",
              "        resolve(e.target.result);\n",
              "      };\n",
              "      reader.readAsArrayBuffer(file);\n",
              "    });\n",
              "    // Wait for the data to be ready.\n",
              "    let fileData = yield {\n",
              "      promise: fileDataPromise,\n",
              "      response: {\n",
              "        action: 'continue',\n",
              "      }\n",
              "    };\n",
              "\n",
              "    // Use a chunked sending to avoid message size limits. See b/62115660.\n",
              "    let position = 0;\n",
              "    do {\n",
              "      const length = Math.min(fileData.byteLength - position, MAX_PAYLOAD_SIZE);\n",
              "      const chunk = new Uint8Array(fileData, position, length);\n",
              "      position += length;\n",
              "\n",
              "      const base64 = btoa(String.fromCharCode.apply(null, chunk));\n",
              "      yield {\n",
              "        response: {\n",
              "          action: 'append',\n",
              "          file: file.name,\n",
              "          data: base64,\n",
              "        },\n",
              "      };\n",
              "\n",
              "      let percentDone = fileData.byteLength === 0 ?\n",
              "          100 :\n",
              "          Math.round((position / fileData.byteLength) * 100);\n",
              "      percent.textContent = `${percentDone}% done`;\n",
              "\n",
              "    } while (position < fileData.byteLength);\n",
              "  }\n",
              "\n",
              "  // All done.\n",
              "  yield {\n",
              "    response: {\n",
              "      action: 'complete',\n",
              "    }\n",
              "  };\n",
              "}\n",
              "\n",
              "scope.google = scope.google || {};\n",
              "scope.google.colab = scope.google.colab || {};\n",
              "scope.google.colab._files = {\n",
              "  _uploadFiles,\n",
              "  _uploadFilesContinue,\n",
              "};\n",
              "})(self);\n",
              "</script> "
            ]
          },
          "metadata": {}
        },
        {
          "output_type": "stream",
          "name": "stdout",
          "text": [
            "Saving sample_file.txt to sample_file.txt\n",
            "Uploaded file: sample_file.txt\n"
          ]
        }
      ]
    },
    {
      "cell_type": "code",
      "source": [
        "!pip install python-dotenv\n",
        "\n",
        "from dotenv import load_dotenv\n",
        "import os\n",
        "\n",
        "load_dotenv()  # Automatically looks for a file named `.env`\n",
        "\n",
        "print(\"SECRET_KEY:\", os.getenv(\"SECRET_KEY\"))\n",
        "print(\"DEBUG:\", os.getenv(\"DEBUG\"))\n"
      ],
      "metadata": {
        "colab": {
          "base_uri": "https://localhost:8080/"
        },
        "id": "oRU2MVwTlPVI",
        "outputId": "31b62006-3533-472f-8af5-696036154d5f"
      },
      "execution_count": null,
      "outputs": [
        {
          "output_type": "stream",
          "name": "stdout",
          "text": [
            "Collecting python-dotenv\n",
            "  Downloading python_dotenv-1.1.0-py3-none-any.whl.metadata (24 kB)\n",
            "Downloading python_dotenv-1.1.0-py3-none-any.whl (20 kB)\n",
            "Installing collected packages: python-dotenv\n",
            "Successfully installed python-dotenv-1.1.0\n"
          ]
        },
        {
          "output_type": "stream",
          "name": "stderr",
          "text": [
            "WARNING:dotenv.main:python-dotenv could not parse statement starting at line 1\n",
            "WARNING:dotenv.main:python-dotenv could not parse statement starting at line 2\n"
          ]
        },
        {
          "output_type": "stream",
          "name": "stdout",
          "text": [
            "SECRET_KEY: None\n",
            "DEBUG: None\n"
          ]
        }
      ]
    },
    {
      "cell_type": "code",
      "source": [
        "from google.colab import files\n",
        "\n",
        "uploaded = files.upload()\n",
        "filename = list(uploaded.keys())[0]\n",
        "print(f\"Uploaded file: {filename}\")\n"
      ],
      "metadata": {
        "colab": {
          "base_uri": "https://localhost:8080/",
          "height": 90
        },
        "id": "h65IFG-Ylmnq",
        "outputId": "c49ba94e-09b3-45b0-ae5f-c1748e90553a"
      },
      "execution_count": null,
      "outputs": [
        {
          "output_type": "display_data",
          "data": {
            "text/plain": [
              "<IPython.core.display.HTML object>"
            ],
            "text/html": [
              "\n",
              "     <input type=\"file\" id=\"files-17a9695f-e995-4ac2-b49f-585f7223a11b\" name=\"files[]\" multiple disabled\n",
              "        style=\"border:none\" />\n",
              "     <output id=\"result-17a9695f-e995-4ac2-b49f-585f7223a11b\">\n",
              "      Upload widget is only available when the cell has been executed in the\n",
              "      current browser session. Please rerun this cell to enable.\n",
              "      </output>\n",
              "      <script>// Copyright 2017 Google LLC\n",
              "//\n",
              "// Licensed under the Apache License, Version 2.0 (the \"License\");\n",
              "// you may not use this file except in compliance with the License.\n",
              "// You may obtain a copy of the License at\n",
              "//\n",
              "//      http://www.apache.org/licenses/LICENSE-2.0\n",
              "//\n",
              "// Unless required by applicable law or agreed to in writing, software\n",
              "// distributed under the License is distributed on an \"AS IS\" BASIS,\n",
              "// WITHOUT WARRANTIES OR CONDITIONS OF ANY KIND, either express or implied.\n",
              "// See the License for the specific language governing permissions and\n",
              "// limitations under the License.\n",
              "\n",
              "/**\n",
              " * @fileoverview Helpers for google.colab Python module.\n",
              " */\n",
              "(function(scope) {\n",
              "function span(text, styleAttributes = {}) {\n",
              "  const element = document.createElement('span');\n",
              "  element.textContent = text;\n",
              "  for (const key of Object.keys(styleAttributes)) {\n",
              "    element.style[key] = styleAttributes[key];\n",
              "  }\n",
              "  return element;\n",
              "}\n",
              "\n",
              "// Max number of bytes which will be uploaded at a time.\n",
              "const MAX_PAYLOAD_SIZE = 100 * 1024;\n",
              "\n",
              "function _uploadFiles(inputId, outputId) {\n",
              "  const steps = uploadFilesStep(inputId, outputId);\n",
              "  const outputElement = document.getElementById(outputId);\n",
              "  // Cache steps on the outputElement to make it available for the next call\n",
              "  // to uploadFilesContinue from Python.\n",
              "  outputElement.steps = steps;\n",
              "\n",
              "  return _uploadFilesContinue(outputId);\n",
              "}\n",
              "\n",
              "// This is roughly an async generator (not supported in the browser yet),\n",
              "// where there are multiple asynchronous steps and the Python side is going\n",
              "// to poll for completion of each step.\n",
              "// This uses a Promise to block the python side on completion of each step,\n",
              "// then passes the result of the previous step as the input to the next step.\n",
              "function _uploadFilesContinue(outputId) {\n",
              "  const outputElement = document.getElementById(outputId);\n",
              "  const steps = outputElement.steps;\n",
              "\n",
              "  const next = steps.next(outputElement.lastPromiseValue);\n",
              "  return Promise.resolve(next.value.promise).then((value) => {\n",
              "    // Cache the last promise value to make it available to the next\n",
              "    // step of the generator.\n",
              "    outputElement.lastPromiseValue = value;\n",
              "    return next.value.response;\n",
              "  });\n",
              "}\n",
              "\n",
              "/**\n",
              " * Generator function which is called between each async step of the upload\n",
              " * process.\n",
              " * @param {string} inputId Element ID of the input file picker element.\n",
              " * @param {string} outputId Element ID of the output display.\n",
              " * @return {!Iterable<!Object>} Iterable of next steps.\n",
              " */\n",
              "function* uploadFilesStep(inputId, outputId) {\n",
              "  const inputElement = document.getElementById(inputId);\n",
              "  inputElement.disabled = false;\n",
              "\n",
              "  const outputElement = document.getElementById(outputId);\n",
              "  outputElement.innerHTML = '';\n",
              "\n",
              "  const pickedPromise = new Promise((resolve) => {\n",
              "    inputElement.addEventListener('change', (e) => {\n",
              "      resolve(e.target.files);\n",
              "    });\n",
              "  });\n",
              "\n",
              "  const cancel = document.createElement('button');\n",
              "  inputElement.parentElement.appendChild(cancel);\n",
              "  cancel.textContent = 'Cancel upload';\n",
              "  const cancelPromise = new Promise((resolve) => {\n",
              "    cancel.onclick = () => {\n",
              "      resolve(null);\n",
              "    };\n",
              "  });\n",
              "\n",
              "  // Wait for the user to pick the files.\n",
              "  const files = yield {\n",
              "    promise: Promise.race([pickedPromise, cancelPromise]),\n",
              "    response: {\n",
              "      action: 'starting',\n",
              "    }\n",
              "  };\n",
              "\n",
              "  cancel.remove();\n",
              "\n",
              "  // Disable the input element since further picks are not allowed.\n",
              "  inputElement.disabled = true;\n",
              "\n",
              "  if (!files) {\n",
              "    return {\n",
              "      response: {\n",
              "        action: 'complete',\n",
              "      }\n",
              "    };\n",
              "  }\n",
              "\n",
              "  for (const file of files) {\n",
              "    const li = document.createElement('li');\n",
              "    li.append(span(file.name, {fontWeight: 'bold'}));\n",
              "    li.append(span(\n",
              "        `(${file.type || 'n/a'}) - ${file.size} bytes, ` +\n",
              "        `last modified: ${\n",
              "            file.lastModifiedDate ? file.lastModifiedDate.toLocaleDateString() :\n",
              "                                    'n/a'} - `));\n",
              "    const percent = span('0% done');\n",
              "    li.appendChild(percent);\n",
              "\n",
              "    outputElement.appendChild(li);\n",
              "\n",
              "    const fileDataPromise = new Promise((resolve) => {\n",
              "      const reader = new FileReader();\n",
              "      reader.onload = (e) => {\n",
              "        resolve(e.target.result);\n",
              "      };\n",
              "      reader.readAsArrayBuffer(file);\n",
              "    });\n",
              "    // Wait for the data to be ready.\n",
              "    let fileData = yield {\n",
              "      promise: fileDataPromise,\n",
              "      response: {\n",
              "        action: 'continue',\n",
              "      }\n",
              "    };\n",
              "\n",
              "    // Use a chunked sending to avoid message size limits. See b/62115660.\n",
              "    let position = 0;\n",
              "    do {\n",
              "      const length = Math.min(fileData.byteLength - position, MAX_PAYLOAD_SIZE);\n",
              "      const chunk = new Uint8Array(fileData, position, length);\n",
              "      position += length;\n",
              "\n",
              "      const base64 = btoa(String.fromCharCode.apply(null, chunk));\n",
              "      yield {\n",
              "        response: {\n",
              "          action: 'append',\n",
              "          file: file.name,\n",
              "          data: base64,\n",
              "        },\n",
              "      };\n",
              "\n",
              "      let percentDone = fileData.byteLength === 0 ?\n",
              "          100 :\n",
              "          Math.round((position / fileData.byteLength) * 100);\n",
              "      percent.textContent = `${percentDone}% done`;\n",
              "\n",
              "    } while (position < fileData.byteLength);\n",
              "  }\n",
              "\n",
              "  // All done.\n",
              "  yield {\n",
              "    response: {\n",
              "      action: 'complete',\n",
              "    }\n",
              "  };\n",
              "}\n",
              "\n",
              "scope.google = scope.google || {};\n",
              "scope.google.colab = scope.google.colab || {};\n",
              "scope.google.colab._files = {\n",
              "  _uploadFiles,\n",
              "  _uploadFilesContinue,\n",
              "};\n",
              "})(self);\n",
              "</script> "
            ]
          },
          "metadata": {}
        },
        {
          "output_type": "stream",
          "name": "stdout",
          "text": [
            "Saving sample_file.txt to sample_file (3).txt\n",
            "Uploaded file: sample_file (3).txt\n"
          ]
        }
      ]
    },
    {
      "cell_type": "code",
      "source": [
        "generate_keys(\"akash\")  # This will generate public and private keys for \"akash\"\n"
      ],
      "metadata": {
        "colab": {
          "base_uri": "https://localhost:8080/"
        },
        "id": "RHz-7VTxmUw_",
        "outputId": "316bb382-c2bd-47e5-86e4-96e519f6dcfd"
      },
      "execution_count": null,
      "outputs": [
        {
          "output_type": "stream",
          "name": "stdout",
          "text": [
            "Keys generated for akash.\n"
          ]
        }
      ]
    },
    {
      "cell_type": "code",
      "source": [
        "encrypt_file(\"sample_file.txt\", \"akash\")  # Encrypt the file for user \"akash\"\n"
      ],
      "metadata": {
        "colab": {
          "base_uri": "https://localhost:8080/"
        },
        "id": "0MASQU-9mXxN",
        "outputId": "f85cdc2c-f776-4f0d-d5ea-e210ae6ed306"
      },
      "execution_count": null,
      "outputs": [
        {
          "output_type": "stream",
          "name": "stdout",
          "text": [
            "File 'sample_file.txt' encrypted.\n"
          ]
        }
      ]
    },
    {
      "cell_type": "code",
      "source": [
        "import os\n",
        "\n",
        "encrypted_file_path = \"encrypted_files/sample_file.txt.enc\"\n",
        "file_size = os.path.getsize(encrypted_file_path)\n",
        "print(f\"Encrypted file size: {file_size} bytes\")\n"
      ],
      "metadata": {
        "colab": {
          "base_uri": "https://localhost:8080/"
        },
        "id": "IQgS6Bl9msWH",
        "outputId": "f2b19f75-68fa-431f-b363-72d9a96ae30a"
      },
      "execution_count": null,
      "outputs": [
        {
          "output_type": "stream",
          "name": "stdout",
          "text": [
            "Encrypted file size: 107 bytes\n"
          ]
        }
      ]
    },
    {
      "cell_type": "code",
      "source": [
        "with open(encrypted_file_path, \"rb\") as f:\n",
        "    encrypted_data = f.read()\n",
        "    print(encrypted_data[:100].hex())  # Print the first 100 bytes in hex\n"
      ],
      "metadata": {
        "colab": {
          "base_uri": "https://localhost:8080/"
        },
        "id": "NHb6BsZUmvea",
        "outputId": "2ccbebbb-c84e-40a7-cc21-48dc5d40540b"
      },
      "execution_count": 26,
      "outputs": [
        {
          "output_type": "stream",
          "name": "stdout",
          "text": [
            "dae63f14ec81b9e3591c7f645973dde3ed07e8b8bb91fc251922cdeb485e78feb01dd6cec5a9d0ec93d285f2afb51039ba26a77c1c88b2e34702d5cf58b8dd6718e51fdf169f0edb05f64ce0682b2ee0d05457323de9f65d8e41c32d01b783274a2cbc83\n"
          ]
        }
      ]
    },
    {
      "cell_type": "code",
      "source": [
        "!apt-get install git\n"
      ],
      "metadata": {
        "colab": {
          "base_uri": "https://localhost:8080/"
        },
        "id": "UQy9aAPbnirc",
        "outputId": "14daf75d-9d40-49d7-8063-b1af619c0f5d"
      },
      "execution_count": 27,
      "outputs": [
        {
          "output_type": "stream",
          "name": "stdout",
          "text": [
            "Reading package lists... Done\n",
            "Building dependency tree... Done\n",
            "Reading state information... Done\n",
            "git is already the newest version (1:2.34.1-1ubuntu1.12).\n",
            "0 upgraded, 0 newly installed, 0 to remove and 30 not upgraded.\n"
          ]
        }
      ]
    },
    {
      "cell_type": "code",
      "source": [
        "!git config --global user.name \"Akash Sikarwar\"\n",
        "!git config --global user.email \"akash.sikarwar2807@gmail.com\"\n"
      ],
      "metadata": {
        "id": "tohEyziBn_pK"
      },
      "execution_count": 28,
      "outputs": []
    },
    {
      "cell_type": "code",
      "source": [
        "!git clone https://github.com/akashsikarwar2211/secure-file-system-using-hybrid-cryptography\n"
      ],
      "metadata": {
        "colab": {
          "base_uri": "https://localhost:8080/"
        },
        "id": "uIAoTqGdoMQC",
        "outputId": "eb949194-c0fe-4719-a786-69be16bcaa33"
      },
      "execution_count": 29,
      "outputs": [
        {
          "output_type": "stream",
          "name": "stdout",
          "text": [
            "Cloning into 'secure-file-system-using-hybrid-cryptography'...\n",
            "remote: Enumerating objects: 3, done.\u001b[K\n",
            "remote: Counting objects: 100% (3/3), done.\u001b[K\n",
            "remote: Total 3 (delta 0), reused 0 (delta 0), pack-reused 0 (from 0)\u001b[K\n",
            "Receiving objects: 100% (3/3), done.\n"
          ]
        }
      ]
    },
    {
      "cell_type": "code",
      "source": [
        "%cd secure-file-system-using-hybrid-cryptography\n"
      ],
      "metadata": {
        "colab": {
          "base_uri": "https://localhost:8080/"
        },
        "id": "cR2UYWtvoaFs",
        "outputId": "a1d290e0-f9ec-4ffc-b2c3-6f3072cd8ba8"
      },
      "execution_count": 30,
      "outputs": [
        {
          "output_type": "stream",
          "name": "stdout",
          "text": [
            "/content/secure-file-system-using-hybrid-cryptography\n"
          ]
        }
      ]
    },
    {
      "cell_type": "code",
      "source": [
        "%cd cryptography.ipynb\n"
      ],
      "metadata": {
        "colab": {
          "base_uri": "https://localhost:8080/"
        },
        "id": "S-WK7vGYosP2",
        "outputId": "015a1c0c-cd52-4f78-9654-8d7a729f3f52"
      },
      "execution_count": 31,
      "outputs": [
        {
          "output_type": "stream",
          "name": "stdout",
          "text": [
            "[Errno 2] No such file or directory: 'cryptography.ipynb'\n",
            "/content/secure-file-system-using-hybrid-cryptography\n"
          ]
        }
      ]
    },
    {
      "cell_type": "code",
      "source": [
        "!cp /path/to/your/files/* .  # This copies files from the location in Colab to the repository folder\n"
      ],
      "metadata": {
        "colab": {
          "base_uri": "https://localhost:8080/"
        },
        "id": "xt_Q5rZDozlD",
        "outputId": "11ca5b1c-a3c1-4541-9453-7cc3c420c9ea"
      },
      "execution_count": 32,
      "outputs": [
        {
          "output_type": "stream",
          "name": "stdout",
          "text": [
            "cp: cannot stat '/path/to/your/files/*': No such file or directory\n"
          ]
        }
      ]
    }
  ]
}